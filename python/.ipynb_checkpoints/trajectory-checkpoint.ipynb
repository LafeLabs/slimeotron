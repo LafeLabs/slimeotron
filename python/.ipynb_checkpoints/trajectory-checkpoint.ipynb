{
 "cells": [
  {
   "cell_type": "code",
   "execution_count": null,
   "id": "b4aaba84",
   "metadata": {},
   "outputs": [],
   "source": [
    "import json\n",
    "import serial\n",
    "import time\n",
    "\n",
    "# Define the runtime of the script in seconds\n",
    "runtime = 60\n",
    "\n",
    "# Open the serial connection\n",
    "ser = serial.Serial('COM5', 9600) # Replace with your serial port and baud rate\n",
    "\n",
    "# Create an empty list to store the JSON data\n",
    "json_data = []\n",
    "\n",
    "# Set the start time of the script\n",
    "start_time = time.time()\n",
    "\n",
    "# Read the JSON data from the serial connection for the specified duration\n",
    "while (time.time() - start_time) < runtime:\n",
    "    data = ser.readline()\n",
    "    try:\n",
    "        json_obj = json.loads(data)\n",
    "        json_data.append(json_obj)\n",
    "        \n",
    "    except:\n",
    "        pass\n",
    "    with open('trajectory.txt', 'w') as f:\n",
    "        json.dump(json_data, f)\n",
    "    \n",
    "# Close the serial connection\n",
    "ser.close()\n",
    "\n",
    "# Save the JSON data to a file\n",
    "#with open('trajectory.txt', 'w') as f:\n",
    "#    json.dump(json_data, f)\n",
    "#json_data"
   ]
  }
 ],
 "metadata": {
  "kernelspec": {
   "display_name": "Python 3",
   "language": "python",
   "name": "python3"
  },
  "language_info": {
   "codemirror_mode": {
    "name": "ipython",
    "version": 3
   },
   "file_extension": ".py",
   "mimetype": "text/x-python",
   "name": "python",
   "nbconvert_exporter": "python",
   "pygments_lexer": "ipython3",
   "version": "3.8.8"
  }
 },
 "nbformat": 4,
 "nbformat_minor": 5
}
